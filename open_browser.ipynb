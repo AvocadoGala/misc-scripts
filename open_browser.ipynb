{
 "cells": [
  {
   "cell_type": "code",
   "execution_count": 1,
   "id": "dd89734f-235b-46ed-afe3-bb3278d0d173",
   "metadata": {},
   "outputs": [],
   "source": [
    "import webbrowser"
   ]
  },
  {
   "cell_type": "code",
   "execution_count": 3,
   "id": "2c9885af-3045-478b-a03b-72e91096ccd8",
   "metadata": {},
   "outputs": [
    {
     "data": {
      "text/plain": [
       "True"
      ]
     },
     "execution_count": 3,
     "metadata": {},
     "output_type": "execute_result"
    }
   ],
   "source": [
    "chrome_path = r\"C:\\Program Files\\Google\\Chrome\\Application\\chrome.exe\"\n",
    "url = \"\"\n",
    "\n",
    "webbrowser.register('chrome', None, webbrowser.BackgroundBrowser(chrome_path))\n",
    "webbrowser.get('chrome').open_new_tab(url)"
   ]
  }
 ],
 "metadata": {
  "kernelspec": {
   "display_name": "Python [conda env:base] *",
   "language": "python",
   "name": "conda-base-py"
  },
  "language_info": {
   "codemirror_mode": {
    "name": "ipython",
    "version": 3
   },
   "file_extension": ".py",
   "mimetype": "text/x-python",
   "name": "python",
   "nbconvert_exporter": "python",
   "pygments_lexer": "ipython3",
   "version": "3.12.7"
  }
 },
 "nbformat": 4,
 "nbformat_minor": 5
}
